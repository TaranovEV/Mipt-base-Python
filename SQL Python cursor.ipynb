{
 "cells": [
  {
   "cell_type": "code",
   "execution_count": 63,
   "metadata": {},
   "outputs": [],
   "source": [
    "import sqlite3\n",
    "import pandas as pd"
   ]
  },
  {
   "cell_type": "code",
   "execution_count": 91,
   "metadata": {},
   "outputs": [],
   "source": [
    "conn = sqlite3.connect('test.db') # создаем базу данных\n",
    "curs = conn.cursor() # открываем курсор - это некий объект базы данных, который позволяет выполнять SQL запросы\n",
    "#curs.execute('''CREATE TABLE Highschooler(ID int, name varchar(100), grade int)''')\n",
    "#curs.execute('''CREATE TABLE Friend(ID1 int, ID2 int)''')\n",
    "#curs.execute('''CREATE TABLE Likes(ID1 int, ID2 int)''')\n",
    "\n",
    "#curs.close()"
   ]
  },
  {
   "cell_type": "code",
   "execution_count": 92,
   "metadata": {},
   "outputs": [
    {
     "name": "stdout",
     "output_type": "stream",
     "text": [
      "('CREATE TABLE Highschooler(ID int, name varchar(100), grade int)',)\n",
      "('CREATE TABLE Friend(ID1 int, ID2 int)',)\n",
      "('CREATE TABLE Likes(ID1 int, ID2 int)',)\n"
     ]
    }
   ],
   "source": [
    "# Посмотрели созданные таблицы\n",
    "curs.execute('''\n",
    "SELECT\n",
    "    sql \n",
    "FROM \n",
    "    sqlite_master \n",
    "''')\n",
    "for i in curs:\n",
    "    print(i)"
   ]
  },
  {
   "cell_type": "code",
   "execution_count": 93,
   "metadata": {},
   "outputs": [
    {
     "data": {
      "text/plain": [
       "<sqlite3.Cursor at 0x25540a28ce0>"
      ]
     },
     "execution_count": 93,
     "metadata": {},
     "output_type": "execute_result"
    }
   ],
   "source": [
    "##Заполняем наши таблицы данными\n",
    "curs.executescript('''\n",
    "insert into Highschooler values (1510,'Jordan',9);\n",
    "insert into Highschooler values (1689,'Gabriel',9);\n",
    "insert into Highschooler values (1381,'Tiffany',9);\n",
    "insert into Highschooler values (1709,'Cassandra',9);\n",
    "insert into Highschooler values (1101,'Haley',10);\n",
    "insert into Highschooler values (1782,'Andrew',10);\n",
    "insert into Highschooler values (1468,'Kris',10);\n",
    "insert into Highschooler values (1641,'Brittany',10);\n",
    "insert into Highschooler values (1247,'Alexis',11);\n",
    "insert into Highschooler values (1316,'Austin',11);\n",
    "insert into Highschooler values (1911,'Gabriel',11);\n",
    "insert into Highschooler values (1501,'Jessica',11);\n",
    "insert into Highschooler values (1304,'Jordan',12);\n",
    "insert into Highschooler values (1025,'John',12);\n",
    "insert into Highschooler values (1934,'Kyle',12);\n",
    "insert into Highschooler values (1661,'Logan',12);\n",
    "''')\n",
    "\n",
    "curs.executescript('''\n",
    "insert into Friend values (1510, 1381);\n",
    "insert into Friend values (1510, 1689);\n",
    "insert into Friend values (1689, 1709);\n",
    "insert into Friend values (1381, 1247);\n",
    "insert into Friend values (1709, 1247);\n",
    "insert into Friend values (1689, 1782);\n",
    "insert into Friend values (1782, 1468);\n",
    "insert into Friend values (1782, 1316);\n",
    "insert into Friend values (1782, 1304);\n",
    "insert into Friend values (1468, 1101);\n",
    "insert into Friend values (1468, 1641);\n",
    "insert into Friend values (1101, 1641);\n",
    "insert into Friend values (1247, 1911);\n",
    "insert into Friend values (1247, 1501);\n",
    "insert into Friend values (1911, 1501);\n",
    "insert into Friend values (1501, 1934);\n",
    "insert into Friend values (1316, 1934);\n",
    "insert into Friend values (1934, 1304);\n",
    "insert into Friend values (1304, 1661);\n",
    "insert into Friend values (1661, 1025);\n",
    "''')\n",
    "\n",
    "curs.executescript('''\n",
    "insert into Likes values(1689, 1709);\n",
    "insert into Likes values(1709, 1689);\n",
    "insert into Likes values(1782, 1709);\n",
    "insert into Likes values(1911, 1247);\n",
    "insert into Likes values(1247, 1468);\n",
    "insert into Likes values(1641, 1468);\n",
    "insert into Likes values(1316, 1304);\n",
    "insert into Likes values(1501, 1934);\n",
    "insert into Likes values(1934, 1501);\n",
    "insert into Likes values(1025, 1101);\n",
    "''')\n"
   ]
  },
  {
   "cell_type": "markdown",
   "metadata": {},
   "source": [
    "4. For every pair of students who both like each other, return the name and grade of both students. Include each pair only once, with the two names in alphabetical order."
   ]
  },
  {
   "cell_type": "code",
   "execution_count": 94,
   "metadata": {},
   "outputs": [
    {
     "name": "stdout",
     "output_type": "stream",
     "text": [
      "        name  grade       name  grade\n",
      "0  Cassandra      9    Gabriel      9\n",
      "1    Gabriel      9  Cassandra      9\n",
      "2    Jessica     11       Kyle     12\n",
      "3       Kyle     12    Jessica     11\n"
     ]
    }
   ],
   "source": [
    "students_like_each_other = pd.read_sql(\"\"\"SELECT table_1.name, table_1.grade, table_2.name, table_2.grade \n",
    "FROM \n",
    "((SELECT ID1, name, grade, ID2 FROM highschooler, likes WHERE ID = ID1) as table_1\n",
    "JOIN\n",
    "(SELECT ID1, name, grade, ID2 FROM highschooler, likes WHERE ID = ID1) as table_2\n",
    "ON table_1.ID1 = table_2.ID2) \n",
    "GROUP BY \n",
    "table_1.name, table_2.name, table_1.grade, \n",
    "table_2.grade\n",
    "HAVING \n",
    "table_1.id2 = table_2.id1 \n",
    "\"\"\", my_DB)\n",
    "print(students_like_each_other)"
   ]
  },
  {
   "cell_type": "markdown",
   "metadata": {},
   "source": [
    "5. Find all students who do not appear in the Likes table (as a student who likes or is liked) and return their names and grades. Sort by grade, then by name within each grade"
   ]
  },
  {
   "cell_type": "code",
   "execution_count": 95,
   "metadata": {
    "scrolled": true
   },
   "outputs": [
    {
     "name": "stdout",
     "output_type": "stream",
     "text": [
      "     ID     name  grade\n",
      "0  1661    Logan     12\n",
      "1  1510   Jordan      9\n",
      "2  1381  Tiffany      9\n"
     ]
    }
   ],
   "source": [
    "my_DB = sqlite3.connect('test.db')\n",
    "student_not_likes = pd.read_sql(\"\"\"SELECT DISTINCT\n",
    "Highschooler.ID,Highschooler.name,Highschooler.grade\n",
    "FROM\n",
    "Highschooler\n",
    "WHERE\n",
    "Highschooler.ID NOT IN (SELECT Likes.ID1 FROM Likes)\n",
    "AND\n",
    "Highschooler.ID NOT IN (SELECT Likes.ID2 FROM Likes)\n",
    "ORDER BY Highschooler.grade DESC,Highschooler.name ASC\n",
    "\"\"\", my_DB)#делаем запрос по отсутсвиям лайков и сортируем по возрастанию класса, и в алфавитном порядке внутри name\n",
    "print(student_not_likes)"
   ]
  },
  {
   "cell_type": "markdown",
   "metadata": {},
   "source": [
    "6. who like themselves"
   ]
  },
  {
   "cell_type": "code",
   "execution_count": 96,
   "metadata": {},
   "outputs": [
    {
     "name": "stdout",
     "output_type": "stream",
     "text": [
      "Empty DataFrame\n",
      "Columns: [ID, name]\n",
      "Index: []\n"
     ]
    }
   ],
   "source": [
    "my_DB = sqlite3.connect('test.db')\n",
    "who_likes_themselves = pd.read_sql(\"\"\"SELECT DISTINCT\n",
    "Highschooler.ID,Highschooler.name\n",
    "FROM\n",
    "Highschooler\n",
    "WHERE\n",
    "Highschooler.ID IN (SELECT Likes.ID1 FROM Likes WHERE Likes.ID1=Likes.ID2)\n",
    "AND\n",
    "Highschooler.ID IN (SELECT Likes.ID2 FROM Likes WHERE Likes.ID1=Likes.ID2)\n",
    "\n",
    "\"\"\", my_DB)#делаем запрос кто лайкнул сам себя т.е. Likes.ID1 = Likes.ID2\n",
    "print(who_likes_themselves)\n",
    "#как видим таких нет"
   ]
  },
  {
   "cell_type": "markdown",
   "metadata": {},
   "source": [
    "### у нас есть 3 таблицы:\n",
    "#### - Старшеклассник ( Highschooler ) со столбцами id (идентификатор ), name (имя), grade (класс)\n",
    "#### - Друг (Friend) со столбцами (id1) старшеклассник,  (id2) друг старшеклассника\n",
    "#### - Лайки (Likes) со столбцами (id1) кто лайкнул, (id2) кого лайкнули"
   ]
  },
  {
   "cell_type": "markdown",
   "metadata": {},
   "source": [
    "### Выполним следующие задания:\n",
    "1. Find person, who likes more than anyone \n",
    "2. Find the names of all students who are friends with someone named Gabriel\n",
    "3. For every student who likes someone 2 or more grades younger than themselves, return that student's name and grade, and the name and grade of the student they like.\n",
    "4. For every pair of students who both like each other, return the name and grade of both students. Include each pair only once, with the two names in alphabetical order.\n",
    "5. Find all students who do not appear in the Likes table (as a student who likes or is liked) and return their names and grades. Sort by grade, then by name within each grade\n",
    "6. who like themselves\n",
    "7. For every situation where student A likes student B, but we have no information about whom B likes (that is, B does not appear as an ID1 in the Likes table), return A and B's names and grades. \n",
    "8. Find names and grades of students who only have friends in the same grade. Return the result sorted by grade, then by name within each grade.\n",
    "9. For each student A who likes a student B where the two are not friends, find if they have a friend C in common (who can introduce them!). For all such trios, return the name and grade of A, B, and C. \n",
    "10. Find the difference between the number of students in the school and the number of different first names. \n",
    "11. What is the average number of friends per student? (Your result should be just one number.) \n",
    "12. Find the name and grade of all students who are liked by more than one other student. \n",
    "13. For every situation where student A likes student B, but student B likes a different student C, return the names and grades of A, B, and C.\n",
    "14. Find the number of students who are either friends with Cassandra or are friends of friends of Cassandra. Do not count Cassandra, even though technically she is a friend of a friend. \n",
    "15. It's time for the seniors to graduate. Remove all 12th graders from Highschooler.\n",
    "16. If two students A and B are friends, and A likes B but not vice-versa, remove the Likes tuple.\n",
    "17. For all cases where A is friends with B, and B is friends with C, add a new friendship for the pair A and C. Do not add duplicate friendships, friendships that already exist, or friendships with oneself."
   ]
  },
  {
   "cell_type": "code",
   "execution_count": null,
   "metadata": {},
   "outputs": [],
   "source": []
  }
 ],
 "metadata": {
  "kernelspec": {
   "display_name": "Python 3",
   "language": "python",
   "name": "python3"
  },
  "language_info": {
   "codemirror_mode": {
    "name": "ipython",
    "version": 3
   },
   "file_extension": ".py",
   "mimetype": "text/x-python",
   "name": "python",
   "nbconvert_exporter": "python",
   "pygments_lexer": "ipython3",
   "version": "3.7.6"
  }
 },
 "nbformat": 4,
 "nbformat_minor": 4
}
